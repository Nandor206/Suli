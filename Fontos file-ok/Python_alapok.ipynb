{
  "nbformat": 4,
  "nbformat_minor": 0,
  "metadata": {
    "colab": {
      "provenance": [],
      "collapsed_sections": [
        "-uFQY0vanNcx",
        "TV64vE4GkFVB",
        "9LBZALemoTo6",
        "0B7FwVffNIfA",
        "4W3K7GdSJOGk"
      ],
      "toc_visible": true
    },
    "kernelspec": {
      "name": "python3",
      "display_name": "Python 3"
    },
    "language_info": {
      "name": "python"
    }
  },
  "cells": [
    {
      "cell_type": "markdown",
      "source": [
        "# A programozás alapkoncepciója"
      ],
      "metadata": {
        "id": "7CPZrggXy17q"
      }
    },
    {
      "cell_type": "markdown",
      "source": [
        "## Bevezetés\n",
        "Az informatikán belül a program alapvetően utasítások sorozata."
      ],
      "metadata": {
        "id": "Py5KMZlYzTw7"
      }
    },
    {
      "cell_type": "markdown",
      "source": [
        "## Vezérlési szerkezetek\n",
        "Hogy a programunk a kívánt logikát kövesse három vezérlési szerkezettel dolgozhatunk."
      ],
      "metadata": {
        "id": "ZRZPtuft0Yd4"
      }
    },
    {
      "cell_type": "markdown",
      "source": [
        "### Szekvencia\n",
        "Utasítások sorozata. Olyan kódrészlet ahol minden utasítás a megadott sorrendben végrehajtódik."
      ],
      "metadata": {
        "id": "qcPKKB650hL3"
      }
    },
    {
      "cell_type": "markdown",
      "source": [
        "### Elágazás\n",
        "Egy olyan vezérlési szerkezet, melynek a kódja csak egy megadott feltétel teljesülése esetén kerül végrehajtásra."
      ],
      "metadata": {
        "id": "YJg3utVx0j5R"
      }
    },
    {
      "cell_type": "markdown",
      "source": [
        "### Ciklus\n",
        "Egy olyan vezérlési szerkezet, melynek a kódja addig kerül ismétlődően végrehajtásra, amíg a megadott feltétel teljesül.\n"
      ],
      "metadata": {
        "id": "kzjzMAH_0mmV"
      }
    },
    {
      "cell_type": "code",
      "source": [
        "for i in range(5):\n",
        "  print(i, end='');\n",
        "\n",
        "print()\n",
        "print(range(5))\n"
      ],
      "metadata": {
        "colab": {
          "base_uri": "https://localhost:8080/"
        },
        "id": "GEU10nEaR4a6",
        "outputId": "6b01d5e0-4e41-4aef-8425-f4b54a4e5ff6"
      },
      "execution_count": null,
      "outputs": [
        {
          "output_type": "stream",
          "name": "stdout",
          "text": [
            "01234\n",
            "range(0, 5)\n"
          ]
        }
      ]
    },
    {
      "cell_type": "code",
      "source": [
        "i = 0\n",
        "while True:\n",
        "  print('',i, i,'', sep='|')\n",
        "  if i < 1000: i+=1\n",
        "  else: break"
      ],
      "metadata": {
        "id": "UcaF8PT9Tym3"
      },
      "execution_count": null,
      "outputs": []
    },
    {
      "cell_type": "markdown",
      "source": [
        "# Python szintaxisa"
      ],
      "metadata": {
        "id": "-uFQY0vanNcx"
      }
    },
    {
      "cell_type": "markdown",
      "source": [
        "## Utasítások\n",
        "- Minden program utasítások sorozatából áll.\n",
        "- Minden sorba egy utasítás kell, hogy kerüljön a kódbázisunk olvashatóságának érdekében.\n",
        "- Ha valami miatt mégis egy sorba szeretnénk több utasítást is sűríteni, a `;` karakterrel elválasztva megtehetjük."
      ],
      "metadata": {
        "id": "BsVv8fSFcwD_"
      }
    },
    {
      "cell_type": "markdown",
      "source": [
        "## Tabulálás\n",
        "Más nyelvekben `{}` karakterekkel oldjuk meg, hogy a kódunkat logikai határait jelezzük. A pythonban a forráskód tördelésével kell ezt megtennünk.\n"
      ],
      "metadata": {
        "id": "aT8HB_Bpbu5z"
      }
    },
    {
      "cell_type": "markdown",
      "source": [
        "## Komment"
      ],
      "metadata": {
        "id": "x8sqk0hZbe0O"
      }
    },
    {
      "cell_type": "markdown",
      "source": [
        "### Egy soros\n",
        "``` python\n",
        "# a kikommentelt sorokat átugorja az értelmező\n",
        "```"
      ],
      "metadata": {
        "id": "NwgSGybdeO5j"
      }
    },
    {
      "cell_type": "markdown",
      "source": [
        "### Több soros (szerű)\n",
        "``` python\n",
        "\"\"\"\n",
        "print(\"asd\")\n",
        "asdasdad\n",
        "\"\"\"\n",
        "# ilyenkor az értelmező számára egy string literál lesz\n",
        "# alapértellmezetten, ha csak 'lóg a levegőben' kiíratásra kerül a konzolon\n",
        "# az előbbi értéke pl.:\n",
        "'\\nprint(\"asd\")\\nasdasdad\\n'\n",
        "```\n",
        "\n"
      ],
      "metadata": {
        "id": "esdxB517ejTc"
      }
    },
    {
      "cell_type": "markdown",
      "source": [
        "# Változók"
      ],
      "metadata": {
        "id": "2yP6qZW2mT8s"
      }
    },
    {
      "cell_type": "markdown",
      "source": [
        "## Általánosságban\n",
        "1. Változónév és típus által.\n",
        "2. Nem szükséges/lehet a változókat inicializálás előtt deklarálni.\n",
        "3. Kötelező kezdeti értékkel inicializálni.\n",
        "4. A python gyengén típusos nyelv: nem kell deklaráláskor kikötni a típust"
      ],
      "metadata": {
        "id": "6ekNvpNSfCI9"
      }
    },
    {
      "cell_type": "markdown",
      "source": [
        "## Alap típusok\n",
        "|Megnevezés|Literál|Szerepkör|\n",
        "|:---:|:---:|:---:|\n",
        "|str|'asd'|karakterláncokhoz|\n",
        "|int|123|egész számokhoz|\n",
        "|float|3.14|nem egész számokhoz|\n",
        "|bool|True|logikai értékekhez|"
      ],
      "metadata": {
        "id": "LkQV31vufenz"
      }
    },
    {
      "cell_type": "markdown",
      "source": [
        "## Változók létrehozása\n",
        "Értékadó operátorral (`=`) oldható meg.\n",
        "``` python\n",
        "# az alábbiakban használt literálok az adott típus alapértelmezett értéke\n",
        "a = 0     # = int()\n",
        "b = 0.0   # = float()\n",
        "c = ''    # = str()\n",
        "d = False # = bool()\n",
        "```"
      ],
      "metadata": {
        "id": "HOBnZ3Xf5U0u"
      }
    },
    {
      "cell_type": "code",
      "source": [
        "a = 0\n",
        "b = 0.0\n",
        "c = 'aksjdlkajsdkja kjd'\n",
        "c2 = \"asdkaskdkaáskdélkaélsdké\"\n",
        "c3 = \"asd'ddd\"\n",
        "c4 = 'asd\"asdasd'\n",
        "c5 = 'asd\\'asd'\n",
        "c6 = \"asd\\\"asdassd\""
      ],
      "metadata": {
        "colab": {
          "base_uri": "https://localhost:8080/"
        },
        "id": "9R3EQ2onVbGG",
        "outputId": "dfa026ee-bd23-4f72-d657-ab474cb0bfd2"
      },
      "execution_count": null,
      "outputs": [
        {
          "output_type": "stream",
          "name": "stdout",
          "text": [
            "0 0 0\n"
          ]
        }
      ]
    },
    {
      "cell_type": "markdown",
      "source": [
        "## Trükkök\n",
        "### Több változó inicializálása egyszerre\n",
        "``` python\n",
        "a, b = 1, 5\n",
        "```\n",
        "### Több változó felcserélése\n",
        "``` python\n",
        "a, b, c = c, b, a\n",
        "```"
      ],
      "metadata": {
        "id": "B1NHzbqqPDGH"
      }
    },
    {
      "cell_type": "code",
      "source": [
        "a, b, c = 1, 2, 3\n",
        "print(a, b, c)\n",
        "a, b, c = c, b, a\n",
        "print(a, b, c)"
      ],
      "metadata": {
        "colab": {
          "base_uri": "https://localhost:8080/"
        },
        "id": "dLjFX5z3PNsO",
        "outputId": "9dceca13-537e-4682-e123-0b4efd888adb"
      },
      "execution_count": null,
      "outputs": [
        {
          "output_type": "stream",
          "name": "stdout",
          "text": [
            "1 2 3\n",
            "3 2 1\n"
          ]
        }
      ]
    },
    {
      "cell_type": "code",
      "source": [],
      "metadata": {
        "id": "fzS4rOeXPc4d"
      },
      "execution_count": null,
      "outputs": []
    },
    {
      "cell_type": "markdown",
      "source": [
        "# Függvények használata"
      ],
      "metadata": {
        "id": "NxWhcjpk9klN"
      }
    },
    {
      "cell_type": "markdown",
      "source": [
        "## Függvény meghívása\n",
        "```python\n",
        "#függvénynév(paraméter)\n",
        "print('Hello world!')\n",
        "```"
      ],
      "metadata": {
        "id": "OSgIQKa-f4Yy"
      }
    },
    {
      "cell_type": "code",
      "source": [
        "a = \"asdasdasd\"\n",
        "\n",
        "help(str)\n",
        "print(\"asd\")\n",
        "type(a)"
      ],
      "metadata": {
        "id": "H4wHLnQ39IcK"
      },
      "execution_count": null,
      "outputs": []
    },
    {
      "cell_type": "markdown",
      "source": [
        "## Nevezetes alap függvények\n",
        "|Függvénynév|Leírás|\n",
        "|:---:|:---:|\n",
        "|print|konzolra kiírás|\n",
        "|type|típus kiíratás|\n",
        "|help|súgófüggvény|"
      ],
      "metadata": {
        "id": "hQfO3aLbf9PG"
      }
    },
    {
      "cell_type": "markdown",
      "source": [
        "## Aritmetikai függvények\n",
        "|Függvénynév|Leírás|\n",
        "|:---:|:---:|\n",
        "|min|minimális érték keresés|\n",
        "|max|maximális érték keresés|\n",
        "|abs|abszolút érték meghatározás|\n",
        "|round|kerekítés|\n",
        "|sum|szumma|\n",
        "|len|adatszerkezet méretének lekérdezése|\n",
        "|sorted|adatszerkezet rendezése|"
      ],
      "metadata": {
        "id": "U9HU05U_f_eb"
      }
    },
    {
      "cell_type": "markdown",
      "source": [
        "## `str` függvényei\n",
        "|név|szerep|\n",
        "|:---:|:---:|\n",
        "|upper|minden nagybetűs|\n",
        "|lower(self, /)|minden betű kicsi|\n",
        "|casefold(self, /)|minden betű kicsi|\n",
        "|capitalize(self, /)|Első betű nagy, többi kicsi.|\n",
        "|index|megadott szöveg első előfordulásának elejének indexe (ValueError-t dob ha nincs)|\n",
        "|startswith|megadott stringgel kezdődik e|\n",
        "|endswith|megadott stringgel végződik e|\n",
        "|split(self, /, sep=None, maxsplit=-1)|karakterláncok feldarabolására|\n",
        "|join(self, iterable, /)|karakterláncok egyesítésére|\n",
        "|center(self, width, fillchar=' ', /)|középre igazított változat|"
      ],
      "metadata": {
        "id": "KL8_UNpbg2bw"
      }
    },
    {
      "cell_type": "code",
      "source": [
        "s = \"ÁdámCSUTKA\"\n",
        "print('upper', s.upper(), sep=' -> ')\n",
        "print('lower', s.lower(), sep=' -> ')\n",
        "print('casefold', s.casefold(), sep=' -> ')\n",
        "print('capitalize', s.capitalize(), sep=' -> ')\n",
        "print('center',s.center(20, 'X'), sep=' -> ')\n",
        "print('index', s.index(\"CS\",), sep=' -> ')\n",
        "print('join', '👏'.join([x.center(3) for x in s]), sep=' -> ')\n",
        "print('format', \"{1} {0} {2:.2%} {2:.4} {3:,}\".format(\"d\",\"x\",0.31415,1234567), sep=' -> ')\n",
        "help(str.format)"
      ],
      "metadata": {
        "colab": {
          "base_uri": "https://localhost:8080/"
        },
        "id": "gGYPopWohGyx",
        "outputId": "cbfa7837-5091-4f24-87fa-593acc9e51c2"
      },
      "execution_count": null,
      "outputs": [
        {
          "output_type": "stream",
          "name": "stdout",
          "text": [
            "upper -> ÁDÁMCSUTKA\n",
            "lower -> ádámcsutka\n",
            "casefold -> ádámcsutka\n",
            "capitalize -> Ádámcsutka\n",
            "center -> XXXXXÁdámCSUTKAXXXXX\n",
            "index -> 4\n",
            "join ->  Á 👏 d 👏 á 👏 m 👏 C 👏 S 👏 U 👏 T 👏 K 👏 A \n",
            "format -> x d 31.41% 0.3141 1,234,567\n",
            "Help on method_descriptor:\n",
            "\n",
            "format(...)\n",
            "    S.format(*args, **kwargs) -> str\n",
            "    \n",
            "    Return a formatted version of S, using substitutions from args and kwargs.\n",
            "    The substitutions are identified by braces ('{' and '}').\n",
            "\n"
          ]
        }
      ]
    },
    {
      "cell_type": "markdown",
      "source": [
        "\n",
        "# Operátorok"
      ],
      "metadata": {
        "id": "elb0SWbXnL9E"
      }
    },
    {
      "cell_type": "markdown",
      "source": [
        "## Aritmetikai\n",
        "|Jel|Cél|\n",
        "|:---:|:---:|\n",
        "|+|összeadás|\n",
        "|-|kivonás|\n",
        "|*|szorzás|\n",
        "|/|osztás|\n",
        "|//|egészrész|\n",
        "|%|maradékos osztás|\n",
        "|**|hatványozás|"
      ],
      "metadata": {
        "id": "pRRHxTC4ghof"
      }
    },
    {
      "cell_type": "markdown",
      "source": [
        "## Logikai\n",
        "|Jel|Cél|\n",
        "|:---:|:---:|\n",
        "|not|negáció|\n",
        "|and|és|\n",
        "|or|vagy|\n",
        "|==|egyenlő|\n",
        "|!=|nem egyenlő|\n",
        "|<|kisebb e|\n",
        "|>|nagyobb e|\n",
        "|<=|kisebb vagy egyenlő e|\n",
        "|>=|nagyobb vagy egyenlő e|"
      ],
      "metadata": {
        "id": "Q9TYWtjKgtxT"
      }
    },
    {
      "cell_type": "markdown",
      "source": [
        "## Egyéb\n",
        "|Jel|Cél|\n",
        "|:---:|:---:|\n",
        "|=|értékadó operátor|\n",
        "|in|megmondja, hogy adott érték megtalálható e valamely adatszerkezetben|"
      ],
      "metadata": {
        "id": "B6zcwa7mhNpq"
      }
    },
    {
      "cell_type": "markdown",
      "source": [
        "## Típusok közti összehasonlíthatóság"
      ],
      "metadata": {
        "id": "uA0MmC2qygDZ"
      }
    },
    {
      "cell_type": "code",
      "source": [
        "print(\"(  26 == 26.0  )\", 26 == 26.0, sep=' => ')\n",
        "print(\"( '26' == 26.0 )\", '26' == 26.0, sep=' => ')\n",
        "print(\"( '26' == 26 )\", '26' == 26, sep=' => ')\n",
        "print(\"Tanulság:\",\n",
        "\"különböző numerikus típusok közt működik az összehasonlítás\",\n",
        "\"karakteres és numerikus típusok közt nem\", sep='\\n - ')"
      ],
      "metadata": {
        "colab": {
          "base_uri": "https://localhost:8080/"
        },
        "id": "WpGJ21hgwYHh",
        "outputId": "bb6bacc1-476c-40ba-a5cd-5959f6e2989d"
      },
      "execution_count": null,
      "outputs": [
        {
          "output_type": "stream",
          "name": "stdout",
          "text": [
            "(  26 == 26.0  ) => True\n",
            "( '26' == 26.0 ) => False\n",
            "( '26' == 26 ) => False\n",
            "Tanulság:\n",
            " - különböző numerikus típusok közt működik az összehasonlítás\n",
            " - karakteres és numerikus típusok közt nem\n"
          ]
        }
      ]
    },
    {
      "cell_type": "markdown",
      "source": [
        "\n",
        "# Típuskonverzió"
      ],
      "metadata": {
        "id": "TV64vE4GkFVB"
      }
    },
    {
      "cell_type": "markdown",
      "source": [
        "## Alapeset\n",
        "Ez a típusok közti átjárás témaköre. Gyakori igény, hogy egy szöveget számmá vagy épp fordítva szeretnénk.\n",
        "\n",
        "Néhány ökölszabály:\n",
        "- nem egész szám egész számmal kapcsolatos művelet végeredménye szintén nem egész szám lesz (logikus)\n",
        "- szöveg * szám = szöveg számszor megismételve\n",
        "- numerikus típus nem adható össze karakteressel"
      ],
      "metadata": {
        "id": "DJRvCQt-hm9p"
      }
    },
    {
      "cell_type": "code",
      "source": [
        "print(\" asd \"*3)\n",
        "a = \"asd\"\n",
        "a += str(6)\n",
        "print(a)"
      ],
      "metadata": {
        "colab": {
          "base_uri": "https://localhost:8080/"
        },
        "id": "crmzveufiIE9",
        "outputId": "57e0b8c7-f1e9-45de-c9c1-e60b9551f5cb"
      },
      "execution_count": null,
      "outputs": [
        {
          "output_type": "stream",
          "name": "stdout",
          "text": [
            " asd  asd  asd \n",
            "asd6\n"
          ]
        }
      ]
    },
    {
      "cell_type": "markdown",
      "source": [
        "## Kényszerítés\n",
        "``` python\n",
        "# Típusnév(érték)\n",
        "str(42) == '42'\n",
        "int(\"13\") == 13\n",
        "float(\"3.14\") == 3.14\n",
        "```"
      ],
      "metadata": {
        "id": "0Z43pVSThpnT"
      }
    },
    {
      "cell_type": "code",
      "source": [
        "# Igaz vagy hamis?\n",
        "a = int('13')\n",
        "b = float('13.0')\n",
        "c = '26'\n",
        "d = str(a + b)\n",
        "print(d == c)"
      ],
      "metadata": {
        "id": "tYM65Ce2fgG_"
      },
      "execution_count": null,
      "outputs": []
    },
    {
      "cell_type": "markdown",
      "source": [
        "# Python vezérlési szerkezetei"
      ],
      "metadata": {
        "id": "kAXtsDA5oBO8"
      }
    },
    {
      "cell_type": "markdown",
      "source": [
        "## Elágazás"
      ],
      "metadata": {
        "id": "sr4ImIsanKbw"
      }
    },
    {
      "cell_type": "code",
      "source": [
        "feltétel = True\n",
        "feltétel2 = True\n",
        "def Utasítások():\n",
        "  return\n",
        "\n",
        "#-----------------------\n",
        "# csak a true ág\n",
        "if feltétel:\n",
        "  Utasítások()\n",
        "#-----------------------\n",
        "# true és false ág szintén\n",
        "if feltétel:\n",
        "  Utasítások()\n",
        "else:\n",
        "  Utasítások();\n",
        "#-----------------------\n",
        "#Ez az utolsó kettő logikailag megegyezik\n",
        "if feltétel:\n",
        "  Utasítások()\n",
        "else:\n",
        "  if feltétel2:\n",
        "    Utasítások();\n",
        "  else:\n",
        "    Utasítások();\n",
        "#-----------------------\n",
        "if feltétel:\n",
        "  Utasítások()\n",
        "elif feltétel2:\n",
        "    Utasítások();\n",
        "else:\n",
        "    Utasítások();\n",
        "\n",
        "\n",
        "a = \"\";\n",
        "if a:\n",
        "  print(\"igeb\")\n",
        "else:\n",
        "  print(\"nem\")\n",
        "||  &&  !\n",
        "or and not < > <= >= == != in"
      ],
      "metadata": {
        "colab": {
          "base_uri": "https://localhost:8080/",
          "height": 145
        },
        "id": "4ONRDxOoBYP9",
        "outputId": "95b9422e-1e3a-4e35-a1a3-5a7c00ff55bd"
      },
      "execution_count": null,
      "outputs": [
        {
          "output_type": "error",
          "ename": "IndentationError",
          "evalue": "ignored",
          "traceback": [
            "\u001b[0;36m  File \u001b[0;32m\"<ipython-input-6-bfb48980fd61>\"\u001b[0;36m, line \u001b[0;32m18\u001b[0m\n\u001b[0;31m    a = \"\";\u001b[0m\n\u001b[0m    ^\u001b[0m\n\u001b[0;31mIndentationError\u001b[0m\u001b[0;31m:\u001b[0m expected an indented block after 'if' statement on line 15\n"
          ]
        }
      ]
    },
    {
      "cell_type": "code",
      "source": [
        "if 6 < 13:\n",
        "  print(\"a 6 kisebb mint 13\")\n",
        "elif 6 < 12:\n",
        "  print(\"a 6 kisebb mint 12\")\n",
        "else:\n",
        "  print(\"a 6 nem kisebb mint 12\")\n"
      ],
      "metadata": {
        "colab": {
          "base_uri": "https://localhost:8080/"
        },
        "id": "zLXwB_kLnQOk",
        "outputId": "f7516ee4-aea8-48d5-91ea-7ce9b4bce41e"
      },
      "execution_count": null,
      "outputs": [
        {
          "output_type": "stream",
          "name": "stdout",
          "text": [
            "a 6 kisebb mint 13\n"
          ]
        }
      ]
    },
    {
      "cell_type": "markdown",
      "source": [
        "## Ciklus"
      ],
      "metadata": {
        "id": "QvkV5Zn_nxtj"
      }
    },
    {
      "cell_type": "code",
      "source": [
        "feltétel = False\n",
        "def Utasítás():\n",
        "  return\n",
        "\n",
        "def Ciklusmag():\n",
        "  return\n",
        "\n",
        "#ELŐLTESZTELŐ CIKLUS\n",
        "#while->addig fut amíg a feltétel igaznak bizonyul\n",
        "while feltétel:\n",
        "  Ciklusmag()\n",
        "# a ciklusmag több utasításból is állhat\n",
        "while feltétel:\n",
        "  Utasítás()\n",
        "  Utasítás()\n",
        "  Utasítás()\n",
        "  Utasítás()\n",
        "\n",
        "#bejáráshoz -> for-in\n",
        "gyűjtemény = (0,1,2,3,4,5,6)\n",
        "for elem in gyűjtemény:\n",
        "  print(elem)\n",
        "#for-in kifejezhető while-al de úgy hosszabb...\n",
        "i = 0\n",
        "while i < len(gyűjtemény):\n",
        "  elem = gyűjtemény[i]\n",
        "  print(elem)\n",
        "  i+=1\n",
        "\n",
        "#SZÁMLÁLÓ CIKLUS\n",
        "for i in range(0,100):\n",
        "  Ciklusmag();\n",
        "\n",
        "i = 0\n",
        "while(i<3):\n",
        "  Ciklusmag();\n",
        "  i+=1\n",
        "\n",
        "\n",
        "feltétel = True\n",
        "#CIKLUSOK VEZÉRLÉSE...\n",
        "#Ciklus futásának megszakítása: break\n",
        "#PL\n",
        "#'HÁTULTESZTELŐ CIKLUS' PYTHON MÓDRA\n",
        "while(True):\n",
        "  Ciklusmag();\n",
        "  if feltétel:\n",
        "    break\n",
        "\n",
        "#adott ciklus átugrása: continue\n",
        "for i in range(0,100):\n",
        "  if i%2==0:\n",
        "    print(i)\n",
        "\n",
        "for i in range(0,100):\n",
        "  if i%2!=0:\n",
        "    continue\n",
        "  print(i)"
      ],
      "metadata": {
        "id": "DmDVoSVXFy9W"
      },
      "execution_count": null,
      "outputs": []
    },
    {
      "cell_type": "markdown",
      "source": [
        "# Python adatszerkezetei"
      ],
      "metadata": {
        "id": "z6QOhkUYoMef"
      }
    },
    {
      "cell_type": "markdown",
      "source": [
        "## Lista"
      ],
      "metadata": {
        "id": "9LBZALemoTo6"
      }
    },
    {
      "cell_type": "markdown",
      "source": [
        "### Létrehozás"
      ],
      "metadata": {
        "id": "F_qYdhAloupP"
      }
    },
    {
      "cell_type": "markdown",
      "source": [
        "#### Létrehozás elemek felsorolásával\n",
        "kapcsos zárójellel, az elemek felsorolhatóak vesszővel elválasztva\n",
        "``` python\n",
        "prímek = [2,3,5,7]\n",
        "több_dimenziós = [[1,2,3],[4,5,6],[7,8,9]]\n",
        "```"
      ],
      "metadata": {
        "id": "2DPTLtBwpGHT"
      }
    },
    {
      "cell_type": "markdown",
      "source": [
        "#### Létrehozás kifejezés által (List Comprehensions)"
      ],
      "metadata": {
        "id": "BLehpyuMbCjB"
      }
    },
    {
      "cell_type": "code",
      "source": [
        "#Konstruktorral, metódus által, ez lényegében átalakításra példa\n",
        "első_öt_számjegy = list(range(5))\n",
        "print(első_öt_számjegy)\n",
        "\n",
        "#List Comprehensions, amikor a 'for-in'-el oldjuk meg\n",
        "első_öt_négyzetszám = [x**2 for x in range(5)]\n",
        "print(első_öt_négyzetszám)\n",
        "\n",
        "#List Comprehensions, feltétellel szűkítve, a C# LINQ-ja helyett a Pythonban ez az alap\n",
        "páros_számjegyek = [x for x in range(10) if x%2==0]\n",
        "print(páros_számjegyek)\n",
        "\n",
        "#Szép tömör kifejezéseket csinálhatunk vele (SQL: SELECT FROM WHERE)\n",
        "t = ['alma', 'körte', 'barack', 'dinnye']\n",
        "q = [\n",
        "    (x[0] + x[-1]).upper()\n",
        "    for x in t\n",
        "    if 4 < len(x)\n",
        "]\n",
        "print(q)"
      ],
      "metadata": {
        "colab": {
          "base_uri": "https://localhost:8080/"
        },
        "id": "NVamWFtUbPFC",
        "outputId": "4f4a6c79-f607-4634-a85e-3d87aa09bbd4"
      },
      "execution_count": null,
      "outputs": [
        {
          "output_type": "stream",
          "name": "stdout",
          "text": [
            "[0, 1, 2, 3, 4]\n",
            "[0, 1, 4, 9, 16]\n",
            "[0, 2, 4, 6, 8]\n",
            "['KE', 'BK', 'DE']\n"
          ]
        }
      ]
    },
    {
      "cell_type": "markdown",
      "source": [
        "### Lekérdezés"
      ],
      "metadata": {
        "id": "v11e8aljqBF_"
      }
    },
    {
      "cell_type": "markdown",
      "source": [
        "#### Egyes elemek elérése\n",
        "- negatív indexelés megengedett\n",
        "\n",
        "|index|jelentés|\n",
        "|:---:|:---:|\n",
        "|0|első elem|\n",
        "|-1|utolsó elem"
      ],
      "metadata": {
        "id": "5HnLq3B3qJnz"
      }
    },
    {
      "cell_type": "markdown",
      "source": [
        "#### Halmazok lekérdezése\n",
        "`:` jellel kérdezhetünk le szeleteket\n",
        "`['ez az indexű elem bele kerül':'ez az indexű elem már NEM kerül bele']`\n",
        "\n",
        "- `[0:3]==[:3]`\n",
        "- ha a kifejezés nem értelmezhető üres listával tér vissza\n",
        "\n",
        "\n",
        "|index|jelentés|\n",
        "|:---:|:---:|\n",
        "|0:3|0,1,2-es indexű elemek|\n",
        "|:3|0,1,2-es indexű elemek|\n",
        "|1:|első értéken kívül mind|\n",
        "|3:5|3-as és 4-es indexű elemek|\n",
        "|3:-1|3-as indexű elemtől leszámítva az utolsót|\n",
        "|-2:|utolsó kettő|\n",
        "|:-2|utolsó kettő kivételével mind|"
      ],
      "metadata": {
        "id": "dmQc3IHyq2XQ"
      }
    },
    {
      "cell_type": "code",
      "source": [
        "p = [0,1,2,3]\n",
        "print(p[:-2])\n",
        "print(len(p))"
      ],
      "metadata": {
        "colab": {
          "base_uri": "https://localhost:8080/"
        },
        "id": "_ijdRLLFsOK-",
        "outputId": "f50ad659-66d9-46d9-c818-5b35734dfd9e"
      },
      "execution_count": null,
      "outputs": [
        {
          "output_type": "stream",
          "name": "stdout",
          "text": [
            "[0, 1]\n",
            "4\n"
          ]
        }
      ]
    },
    {
      "cell_type": "markdown",
      "source": [
        "#### `in` logikai operátor"
      ],
      "metadata": {
        "id": "YVVMpfyyMqa-"
      }
    },
    {
      "cell_type": "markdown",
      "source": [
        "Megmondja, hogy egy adott érték szerepel e az adott halmazban vagy sem."
      ],
      "metadata": {
        "id": "Vi0nhC5ZMy1q"
      }
    },
    {
      "cell_type": "markdown",
      "source": [
        "### Metódusok"
      ],
      "metadata": {
        "id": "UGPD89LnLGUW"
      }
    },
    {
      "cell_type": "markdown",
      "source": [
        "|asd|asd|\n",
        "|:---:|:---:|\n",
        "|append|végéhez hozzáadás|\n",
        "|pop|utolsó elem kivétele|\n",
        "|index(key)|index meghatározása (ValueError-t dob ha nincs)|"
      ],
      "metadata": {
        "id": "Wvm3Jf76LUA5"
      }
    },
    {
      "cell_type": "markdown",
      "source": [
        "## Tuples\n",
        "immutable, megváltoztathatatlan"
      ],
      "metadata": {
        "id": "0B7FwVffNIfA"
      }
    },
    {
      "cell_type": "markdown",
      "source": [
        "### Létrehozás\n",
        "``` python\n",
        "t1 = (1, 2, 3)\n",
        "t2 = 1,2,3\n",
        "# t1 == t2 -> True\n",
        "```"
      ],
      "metadata": {
        "id": "kmmExyFCJVU8"
      }
    },
    {
      "cell_type": "code",
      "source": [
        "t1 = (1, 2, 3)\n",
        "t2 = 1,2,3\n",
        "t1 == t2"
      ],
      "metadata": {
        "colab": {
          "base_uri": "https://localhost:8080/"
        },
        "id": "Cu9fhE0SNrSx",
        "outputId": "c75bab00-478a-4073-930b-95618bb4f5da"
      },
      "execution_count": null,
      "outputs": [
        {
          "output_type": "execute_result",
          "data": {
            "text/plain": [
              "True"
            ]
          },
          "metadata": {},
          "execution_count": 14
        }
      ]
    },
    {
      "cell_type": "markdown",
      "source": [
        "## Dictionaries"
      ],
      "metadata": {
        "id": "0c7cnpvRJIoW"
      }
    },
    {
      "cell_type": "markdown",
      "source": [
        "### Létrehozás\n"
      ],
      "metadata": {
        "id": "4W3K7GdSJOGk"
      }
    },
    {
      "cell_type": "code",
      "source": [
        "d1 = {1:'egy', 2:'kettő', 3:'három'}\n",
        "d2 = dict();\n",
        "d2[1] = 'egy'\n",
        "d2[2] = 'kettő'\n",
        "d2[3] = 'három'\n",
        "print(d1)\n",
        "print(d2)"
      ],
      "metadata": {
        "colab": {
          "base_uri": "https://localhost:8080/"
        },
        "id": "Az26Xi3cJYpD",
        "outputId": "aced38b0-5113-4ee2-b90f-4e9de035de47"
      },
      "execution_count": 1,
      "outputs": [
        {
          "output_type": "stream",
          "name": "stdout",
          "text": [
            "{1: 'egy', 2: 'kettő', 3: 'három'}\n",
            "{1: 'egy', 2: 'kettő', 3: 'három'}\n"
          ]
        }
      ]
    },
    {
      "cell_type": "code",
      "source": [],
      "metadata": {
        "id": "-nwqTzJuKt9d"
      },
      "execution_count": null,
      "outputs": []
    },
    {
      "cell_type": "code",
      "source": [],
      "metadata": {
        "id": "HfXevnz8Kuj0"
      },
      "execution_count": null,
      "outputs": []
    },
    {
      "cell_type": "markdown",
      "source": [
        "# Függvények írása\n",
        "A számítógép-programozásban a függvény és az eljárás egy program azon része, amely egy adott feladatot hajt végre, a kód többi részétől viszonylag független egység, és többször felhasználható anélkül, hogy a program kódjának több példányban is tartalmaznia kellene.\n",
        "\n",
        "|Megnevezés|Jellemzés|\n",
        "|:---:|:---:|\n",
        "|Függvény|van visszatérési értéke|\n",
        "|Eljárás|nincs visszatérési értéke|\n",
        "|Metódus|egy osztály függvénye vagy eljárása|\n",
        "\n",
        "A továbbiakban nem teszek különbséget közöttük."
      ],
      "metadata": {
        "id": "zu4oQblQlGms"
      }
    },
    {
      "cell_type": "markdown",
      "source": [
        "## Függvény definiálása és meghívása\n",
        "- a függvényhez tartozó kódblokkot a sorok tabulálásával kell kifejzni\n",
        "- def kulcsszóval kezdünk majd a függvény neve\n",
        "- `()` mindig kell a név után, ha vannak paraméterek itt soroljuk fel `,`-vel elválasztva\n",
        "- a függvény deklarálása `:`-al zárjuk\n",
        "- ha van visszatérési értéke a függvénynek a `return` kulcsszóval jelezhetjük\n",
        "``` python\n",
        "def függvénynév(paraméterlista):\n",
        "    ...\n",
        "    return visszatérési_érték\n",
        "```"
      ],
      "metadata": {
        "id": "ojznXZYzM_Ul"
      }
    },
    {
      "cell_type": "code",
      "source": [
        "# Függvény definíció\n",
        "def kiirat(a: str):\n",
        "  print(a)\n",
        "# Függvény meghívása\n",
        "kiirat('Hello world!')\n",
        "\n",
        "def összeadás(a,b):\n",
        "  visszatérési_érték = a + b\n",
        "  return visszatérési_érték\n",
        "\n",
        "kiirat(összeadás(3,3))"
      ],
      "metadata": {
        "colab": {
          "base_uri": "https://localhost:8080/"
        },
        "id": "rpORDOLkfl85",
        "outputId": "6bf0446c-254e-4c52-80cb-7fe899f5d326"
      },
      "execution_count": null,
      "outputs": [
        {
          "output_type": "stream",
          "name": "stdout",
          "text": [
            "Hello world!\n",
            "6\n"
          ]
        }
      ]
    },
    {
      "cell_type": "markdown",
      "source": [
        "## Docstring mellékelelése és megtekintése\n",
        "- a függvény első sorában kell, hogy szerepeljen\n",
        "- `\"\"\"` jelzi az elejét és a végét\n",
        "``` python\n",
        "def függvénynév():\n",
        "  \"\"\"Docstring helye\n",
        "  Természetesen több soros is lehet.\n",
        "  \"\"\"\n",
        "```"
      ],
      "metadata": {
        "id": "BhseV0RZNKaF"
      }
    },
    {
      "cell_type": "code",
      "source": [
        "# Függvény definíció docstringgel\n",
        "def kiirat(a):\n",
        "  \"\"\"Az átadott paramétert továbbítja a konzolra.\n",
        "  >>> kiirat(\"asd\")\n",
        "  asd\n",
        "  \"\"\"\n",
        "  print(a)\n",
        "# Függvény meghívása\n",
        "help(kiirat)"
      ],
      "metadata": {
        "colab": {
          "base_uri": "https://localhost:8080/"
        },
        "id": "Jc1ThAl6xN4z",
        "outputId": "e20d2ded-5986-4d20-ef55-204aec8bf5c2"
      },
      "execution_count": null,
      "outputs": [
        {
          "output_type": "stream",
          "name": "stdout",
          "text": [
            "Help on function kiirat in module __main__:\n",
            "\n",
            "kiirat(a)\n",
            "    Az átadott paramétert továbbítja a konzolra.\n",
            "    >>> kiirat(\"asd\")\n",
            "    asd\n",
            "\n"
          ]
        }
      ]
    },
    {
      "cell_type": "markdown",
      "source": [
        "## Paraméter típusának jelzése\n",
        "- Csak akkor van szerepe, ha a fejlesztőkörnyezet valamilyen mechanizmusa erre épít.\n",
        "- Colab esetén\n",
        "  - hiába sérted meg a típus jelzést, nem dob hibát\n",
        "  - hatással van a kódkiegészítésre pl.: amikor írod a kódot és a függvényeket javasolja\n",
        "``` python\n",
        "def függvénynév(paraméternév: típus):\n",
        "```"
      ],
      "metadata": {
        "id": "OrSmUXFINkC5"
      }
    },
    {
      "cell_type": "code",
      "source": [
        "# Csak akkor van hatása a gyakorlatban, ha a fejlesztőkörnyezet figyeli.\n",
        "def kiirat(a: str):\n",
        "  print(a)\n",
        "\n",
        "kiirat(4)\n",
        "# A colab nem figyeli, gond nélkül lefut a típus jelzésének megsértése ellenére."
      ],
      "metadata": {
        "colab": {
          "base_uri": "https://localhost:8080/"
        },
        "id": "V51x9R_BzsXl",
        "outputId": "3438fab5-b9b9-46f6-96d4-3e4b984189e8"
      },
      "execution_count": null,
      "outputs": [
        {
          "output_type": "stream",
          "name": "stdout",
          "text": [
            "4\n"
          ]
        }
      ]
    },
    {
      "cell_type": "markdown",
      "source": [
        "## Opcionális paraméter megadása\n",
        "``` python\n",
        "def függvénynév(opcionális_paraméter_név = 'kezdeti érték')\n",
        "```\n",
        "- A függvény hívásakor nem kell megadni, ilyenkör a deklaráláskor megadott értékkel fog lefutni.\n",
        "- A paraméterlistán belül mindig a végére kell, hogy kerüljön.\n",
        "- Ami nem opcionális paraméter muszáj megadni híváskor, deklaráláskor ezek kerülnek a felsorolásban előre, utánuk jönnek az opcionális paraméterek felsorolása.\n"
      ],
      "metadata": {
        "id": "QWbfr26hOmLk"
      }
    },
    {
      "cell_type": "code",
      "source": [
        "def kiirat(a, b, c = None):\n",
        "  print(a,b,c)\n",
        "\n",
        "kiirat(1,2)"
      ],
      "metadata": {
        "colab": {
          "base_uri": "https://localhost:8080/"
        },
        "id": "m8Hk4jA90pAS",
        "outputId": "85493fd2-7544-4e52-8137-5597e72c36d9"
      },
      "execution_count": null,
      "outputs": [
        {
          "output_type": "stream",
          "name": "stdout",
          "text": [
            "1 2 None\n"
          ]
        }
      ]
    },
    {
      "cell_type": "markdown",
      "source": [
        "# Bevezetés a Python programozásba\n"
      ],
      "metadata": {
        "id": "IND4_X_X78D7"
      }
    },
    {
      "cell_type": "markdown",
      "source": [
        "A témakör célja, hogy a tanulók megtanulják a Python programozás megkezdéséhez szükséges alapokat, telepítéssel, fejlesztői környezet megismerésével és egyszerű programok készítésével. A témakör elsajátítását követően a tanuló:\n",
        "- Ismeri a számítógépes program működésének elvét, tudja, mi a különbség a fordított és interpretált kódok között.\n",
        "- Ismeri a Python programozási nyelv jellemzőit.\n",
        "- Képes Python programok készítésére szolgáló hatékony fejlesztési környezet kialakítására (Python letöltése és telepítése, a választott fejlesztői környezetek kiválasztása, telepítése, konfigurálása).\n",
        "- Képes „Hello World!” típusú program készítésére és futtatására.\n",
        "- Képes az egyszerű, tipikus programhibák megkeresésére és javítására.\n",
        "\n",
        "## A Python programozási nyelv alapjai\n",
        "A témakör célja, hogy a tanulók az életből (akár iskolai életből) vett példák alapján egysze- rűbb programokat írjanak Python program segítségével, melyekben találkozhatnak a különböző típusú literálokkal, aritmetikai operátorokkal, matematikai függvényekkel, illetve megismerhetik a változók használatát is. A témakör elsajátítása lehetővé teszi, hogy a különböző típusú adatok, összetett adatszerkezetek célszerű választásával képesek legyenek megoldani problémákat, szükség esetén saját függvényeket tudjanak készíteni, használni. A témakör elsajátítását követően a tanuló:\n",
        "- Ismeri a print() függvény működését és képes alkalmazni azt (print függvény paraméterezése, escape és új sor vezérlőkarakterek).\n",
        "- Ismeri a paraméterátadás fajtáit (positional, keyword).\n",
        "- Ismeri a literál fogalmát, az egész, valós, karakterlánc és logikai típusú literálokat.\n",
        "- Típuskonverziót végez, alkalmazza a típuskényszerítést.\n",
        "- Használja az alapvető aritmetikai operátorokat, a rövidített értékadást (+=, /=, %=, -=, **=).\n",
        "- Alkalmazza a kifejezéseket és a kifejezések kiértékelési szabályait.\n",
        "- Ismeri és feladatában alkalmazza a változók azonosítását, deklarálását, értékadását, valamint a foglalt szavakat.\n",
        "- Képes egyszerű matematikai problémák megoldására változók felhasználásával.\n",
        "- Ismeri a megjegyzéseket, azokat célszerűen használja.\n",
        "- Ismeri és használni tudja az input() függvényt.\n",
        "- Ismeri és használni tudja a karakterláncokon értelmezett operátorokat, karakterláncok összefűzését és replikációját.\n",
        "- Ismeri a relációs operátorokat.\n",
        "- Használni tudja az (egy- és többágú) elágazásokat egy programban.\n",
        "- Ismeri és használni tudja az elágazások egymásba ágyazását, az elif utasítást.\n",
        "- Ismeri a ciklusokat, adott feladatnál célszerűen tud közülük választani (while és for).\n",
        "- Ismeri a végtelen ciklus fogalmát.\n",
        "- Ismeri és használni tudja a range() függvényt.\n",
        "- Képes megfelelően használni a logika operátorokat (and, or, not). ‒ Ismeri a bitműveleteket.\n",
        "- Ismeri az összetett adatszerkezet fogalmát, hasznosságát.\n",
        "- Ismeri a lista fogalmát, jellemzőit.\n",
        "- Ismeri az index fogalmát (a negatív és nem negatív értékek szerepét), listák indexelését.\n",
        "- Ismeri a függvények és metódusok közötti különbséget a Python programozási nyelvben.\n",
        "- Ismeri és használni tudja a listametódusokat: append() és insert().\n",
        "- Képes bejárni a listákat, felcserélni az elemeiket, darabolni azokat és műveleteket végezni velük.\n",
        "- Képes a lista elemeinek rendezésére, ismeri a buborékrendezés algoritmusát.\n",
        "- Ismeri és célnak megfelelően használja az in és not in operátorokat.\n",
        "- Képes megkeresni a minimum és a maximum értéket egy listában.\n",
        "- Felismeri és érti a megszámlálás, kiválogatás, eldöntés algoritmusát.\n",
        "- Képes listákat egymásba ágyazni.\n",
        "- Ismeri a függvény fogalmát, jellemzőit.\n",
        "- Ismeri a függvények működését és tud függvényeket definiálni, paraméterezni, meghívni.\n",
        "- Ismeri és meg tudja határozni a visszatérési értéket ‒ Ismeri a None kulcsszó szerepét.\n",
        "- Képes saját függvényeket definiálni.\n",
        "- Ismeri a láthatósági szint fogalmát (scope) és tudja alkalmazni azt.\n",
        "- Ismeri és használni tudja az érték szerinti paraméterátadást a Pythonban.\n",
        "- Ismeri a rekurzió fogalmát.\n",
        "- Ismeri a karakter és karakterlánc (sztring) fogalmát.\n",
        "- Ismeri a karakterek kódolását, tudja használni az UTF-8 kódolást.\n",
        "- Képes műveleteket végezni karakterláncokkal, ismeri és használni tudja az ord() és chr() függvényeket.\n",
        "- Ismeri és használni tudja a karakterláncok indexelését és darabolását.\n",
        "- Képes használni az in és not in operátorokat sztringek esetében.\n",
        "- Ismeri a sztringek módosításának lehetőségeit.\n",
        "- Ismeri és használni tudja a min(), max(), index(), list() függvényeket.\n",
        "- Ismeri a következő sztring-metódusokat: capitalize(), center(), endswith(), find(), isalnum(), isalpha(), islower(), join(), lower(), lstrip(), replace(), rfind(), rstrip(), split(), startswith(), strip(), swapcase(), title(), upper().\n",
        "- Képes karakterláncokat összehasonlítani, rendezni.\n",
        "- Képes összetettebb feladatok megoldására karakterláncokkal.\n",
        "- Ismeri a sor (tuple) fogalmát, képes definiálni, használni a fontosabb függvényeket és metódusokat.\n",
        "- Ismeri a szótár fogalmát, képes definiálni, használni a fontosabb függvényeket és metódusokat.\n",
        "\n",
        "## Modulok, objektumok, fájlkezelés Pythonban\n",
        "A témakörben a tanulók megismerik a Python programozási nyelv moduljait és csomagjait. Néhány alapvető beépített modul használata után saját modulokat és csomagokat is készí- tenek. Megismerik a kivétel fogalmát és a kivételkezelés technikáját, valamint az objek- tumorientált programozás alapjait, aminek hatására képesek lesznek objektumokat hasz- nálni és saját egyszerű objektumokat készíteni a Python nyelven megírt programjukban. A témakör zárásaként megismerkednek a szöveges fájlok kezelésével. A témakör elsajátítását követően a tanuló: ‒ Ismeri a modul fogalmát, képes importálni azt. ‒ Ismeri és használni tudja a math modult. ‒ Ismeri a * karakter és az as kulcsszó szerepét, valamint az álnevek használatát. ‒ Ismeri a dir() függvényt. ‒ Ismeri és használja a random modult. 39/88. oldal  ‒ Ismeri a platform modult és használatát. ‒ Ismeri a Python Module Indexet és tud keresni benne. ‒ Tud saját modult készíteni. ‒ Ismeri a csomag (package) fogalmát és a saját csomag készítésének módját. ‒ Ismeri a különböző hibafajtákat, az egyszerűbb hibákat képes javítani. ‒ Ismeri a kivétel fogalmát. ‒ Képes megoldani egyszerűbb kivételkezelési feladatokat. ‒ Tudja használni a beépített kivételeket. ‒ Tud saját kivételt készíteni. ‒ Ismeri az objektumorientált programozás (OOP) koncepcióját. ‒ Ismeri a procedurális és az objektumorientált megközelítés különbségeit. ‒ Ismeri az osztály (class) fogalmát. ‒ Ismeri az osztályhierarchia szerepét. ‒ Ismeri az objektum fogalmát. ‒ Képes létrehozni egyszerű saját osztályt és objektumot. ‒ Tud szöveges fájlokat kezelni. ‒ Ismeri a fájlkezelés közben fellépő hibákat, és tudja javítani azokat. ‒ Ismeri és célnak megfelelően alkalmazza az open(), readline(), readlines() és wri- te() függvényeket."
      ],
      "metadata": {
        "id": "8cAFEb6rFW0K"
      }
    },
    {
      "cell_type": "code",
      "source": [
        "a = 1"
      ],
      "metadata": {
        "id": "E_YkOcWl9OG9"
      },
      "execution_count": null,
      "outputs": []
    },
    {
      "cell_type": "code",
      "source": [
        "b = 100\n",
        "help(print)\n",
        "a = (1,2,3,4,5,6)\n",
        "\n",
        "for item in a:\n",
        "  print(item, end=' ')"
      ],
      "metadata": {
        "colab": {
          "base_uri": "https://localhost:8080/"
        },
        "id": "OS88RfZq9RvS",
        "outputId": "cff08f42-bbb3-416e-cf81-b93a836ee8b5"
      },
      "execution_count": null,
      "outputs": [
        {
          "output_type": "stream",
          "name": "stdout",
          "text": [
            "Help on built-in function print in module builtins:\n",
            "\n",
            "print(...)\n",
            "    print(value, ..., sep=' ', end='\\n', file=sys.stdout, flush=False)\n",
            "    \n",
            "    Prints the values to a stream, or to sys.stdout by default.\n",
            "    Optional keyword arguments:\n",
            "    file:  a file-like object (stream); defaults to the current sys.stdout.\n",
            "    sep:   string inserted between values, default a space.\n",
            "    end:   string appended after the last value, default a newline.\n",
            "    flush: whether to forcibly flush the stream.\n",
            "\n",
            "1 2 3 4 5 6 "
          ]
        }
      ]
    },
    {
      "cell_type": "markdown",
      "source": [
        "#Példakódok"
      ],
      "metadata": {
        "id": "0hDeGFU5FVzS"
      }
    },
    {
      "cell_type": "markdown",
      "source": [
        "## Műveletek és elágazás"
      ],
      "metadata": {
        "id": "Rnqjqc2LPygn"
      }
    },
    {
      "cell_type": "code",
      "source": [
        "print(\"Műveletek\")\n",
        "print(\"1 | Összeadás\")\n",
        "print(\"2 | Kivonás\")\n",
        "muvelet = input(\"Művelet sorszáma: \")\n",
        "\n",
        "if muvelet == \"1\":\n",
        "  print(\"Választott művelet: összeadás\")\n",
        "elif muvelet == \"2\":\n",
        "  print(\"Választott művelet: kivonás\")\n",
        "else:\n",
        "  muvelet = \"\"\n",
        "  print(\"Nincs ilyen sorszámú művelet!\")\n",
        "\n",
        "if muvelet != \"\":\n",
        "  elso = input(\"Első operandus: \");\n",
        "  masodik = input(\"Második operandus: \")\n",
        "  if muvelet == \"1\":\n",
        "    eredmeny = float(elso) + float(masodik)\n",
        "    print(\"Összeadás eredménye:\", str(eredmeny))\n",
        "  elif muvelet == \"2\":\n",
        "    eredmeny = float(elso) - float(masodik)\n",
        "    print(\"Kivonás eredménye:\", str(eredmeny))"
      ],
      "metadata": {
        "colab": {
          "base_uri": "https://localhost:8080/"
        },
        "id": "rl-swL-yP3Wo",
        "outputId": "375f4767-1299-49f3-ab6e-e650217eb78d"
      },
      "execution_count": null,
      "outputs": [
        {
          "output_type": "stream",
          "name": "stdout",
          "text": [
            "Műveletek\n",
            "1 | Összeadás\n",
            "2 | Kivonás\n",
            "Művelet sorszáma: fg\n",
            "Nincs ilyen sorszámú művelet!\n"
          ]
        }
      ]
    }
  ]
}